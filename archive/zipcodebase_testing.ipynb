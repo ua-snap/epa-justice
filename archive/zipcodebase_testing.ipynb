{
 "cells": [
  {
   "cell_type": "code",
   "execution_count": 86,
   "metadata": {},
   "outputs": [],
   "source": [
    "import pandas as pd\n",
    "import requests\n",
    "import json\n",
    "\n",
    "from api_luts import *"
   ]
  },
  {
   "cell_type": "code",
   "execution_count": 87,
   "metadata": {},
   "outputs": [
    {
     "data": {
      "text/plain": [
       "273"
      ]
     },
     "execution_count": 87,
     "metadata": {},
     "output_type": "execute_result"
    }
   ],
   "source": [
    "# how many zip codes?\n",
    "len(ak_zip_codes)"
   ]
  },
  {
   "cell_type": "code",
   "execution_count": 88,
   "metadata": {},
   "outputs": [],
   "source": [
    "# we can only request 100 zipcodes at once, so we need to break this list into parts\n",
    "zipcode_chunks = [ak_zip_codes[0:100], ak_zip_codes[101:200], ak_zip_codes[201:]]"
   ]
  },
  {
   "cell_type": "code",
   "execution_count": 89,
   "metadata": {},
   "outputs": [
    {
     "name": "stdout",
     "output_type": "stream",
     "text": [
      "Requested location names for 273 Alaska zip codes...\n",
      "Returned 271 location names...\n",
      "Returned 226 unique location names...\n"
     ]
    }
   ],
   "source": [
    "headers = {\"apikey\": \"bdf542c0-f06e-11ee-869e-7ff58c93f49b\"}\n",
    "\n",
    "places = []\n",
    "\n",
    "for zipcode_chunk in zipcode_chunks:\n",
    "    zipcode_str = (\",\").join(zipcode_chunk)\n",
    "    \n",
    "    params = ((\"codes\", zipcode_str),(\"country\", \"us\"))\n",
    "    response = requests.get('https://app.zipcodebase.com/api/v1/search', headers=headers, params=params)\n",
    "    if response.status_code != 200:\n",
    "        print(\"No response!\")\n",
    "    else:\n",
    "        r_json = response.json()\n",
    "        if len(r_json[\"results\"].keys()) > 0:\n",
    "            for zipcode in r_json[\"results\"].keys():\n",
    "                for place in r_json[\"results\"][zipcode]:\n",
    "                    city = place[\"city\"]\n",
    "                    places.append(city)\n",
    "        else:\n",
    "            print(f\"No results for zip code string: {zipcode_str}!\")\n",
    "\n",
    "unique_places = list(set(places))\n",
    "print(f\"Requested location names for {len(ak_zip_codes)} Alaska zip codes...\")\n",
    "print(f\"Returned {len(places)} location names...\")\n",
    "print(f\"Returned {len(unique_places)} unique location names...\")"
   ]
  },
  {
   "cell_type": "code",
   "execution_count": 90,
   "metadata": {},
   "outputs": [],
   "source": [
    "place_zipcode_dict = {}\n",
    "\n",
    "for place in unique_places:\n",
    "    params = (\n",
    "   (\"city\",place),\n",
    "   (\"state_name\",\"Alaska\"),\n",
    "   (\"country\",\"us\"),)\n",
    "\n",
    "    response = requests.get('https://app.zipcodebase.com/api/v1/code/city', headers=headers, params=params)\n",
    "    if response.status_code != 200:\n",
    "        print(\"No response!\")\n",
    "    else:\n",
    "        r_json = response.json()\n",
    "        #print(json.dumps(r_json, indent=3))\n",
    "        if len(r_json[\"results\"]) > 0:\n",
    "            place_zipcode_dict[place] = r_json[\"results\"]\n",
    "        else:\n",
    "            print(f\"No results for {place}!\")"
   ]
  },
  {
   "cell_type": "code",
   "execution_count": 91,
   "metadata": {},
   "outputs": [
    {
     "data": {
      "text/plain": [
       "{'Delta Junction': ['99737'],\n",
       " 'South Naknek': ['99670'],\n",
       " 'Sand Point': ['99661'],\n",
       " 'Chignik': ['99564'],\n",
       " 'Kalskag': ['99607'],\n",
       " 'Coffman Cove': ['99918'],\n",
       " 'Nome': ['99762'],\n",
       " 'Juneau': ['99801', '99802', '99803', '99811', '99812', '99850'],\n",
       " 'Lower Kalskag': ['99626'],\n",
       " 'Shageluk': ['99665'],\n",
       " 'Hope': ['99605'],\n",
       " 'Pelican': ['99832'],\n",
       " 'Kotlik': ['99620'],\n",
       " 'Iliamna': ['99606'],\n",
       " 'Eek': ['99578'],\n",
       " 'Soldotna': ['99669'],\n",
       " 'Auke Bay': ['99821'],\n",
       " 'Homer': ['99603'],\n",
       " 'Anvik': ['99558'],\n",
       " 'Kasilof': ['99610'],\n",
       " 'Two Rivers': ['99716'],\n",
       " 'Pilot Station': ['99650'],\n",
       " 'Stevens Village': ['99774'],\n",
       " 'Saint Marys': ['99658'],\n",
       " 'Wrangell': ['99929'],\n",
       " 'Northway': ['99764'],\n",
       " 'Deering': ['99736'],\n",
       " 'Arctic Village': ['99722'],\n",
       " 'Shishmaref': ['99772'],\n",
       " 'Teller': ['99778'],\n",
       " 'Hoonah': ['99829'],\n",
       " 'Eagle River': ['99577'],\n",
       " 'North Pole': ['99705'],\n",
       " 'Chugiak': ['99567'],\n",
       " 'Ouzinkie': ['99644'],\n",
       " 'Denali National Park': ['99755'],\n",
       " 'Ruby': ['99768'],\n",
       " 'Mc Grath': ['99627'],\n",
       " 'Noorvik': ['99763'],\n",
       " 'Fort Wainwright': ['99703'],\n",
       " 'Meyers Chuck': ['99903'],\n",
       " 'Kipnuk': ['99614'],\n",
       " 'Wales': ['99783'],\n",
       " 'Takotna': ['99675'],\n",
       " 'Cantwell': ['99729'],\n",
       " 'Kake': ['99830'],\n",
       " 'Elim': ['99739'],\n",
       " 'Copper Center': ['99573'],\n",
       " 'Chitina': ['99566'],\n",
       " 'Koyukuk': ['99754'],\n",
       " 'Wasilla': ['99623', '99629', '99654', '99687'],\n",
       " 'Savoonga': ['99769'],\n",
       " 'Emmonak': ['99581'],\n",
       " 'Dutch Harbor': ['99692'],\n",
       " 'King Salmon': ['99613'],\n",
       " 'Hydaburg': ['99922'],\n",
       " 'Seward': ['99664'],\n",
       " 'Clear': ['99704'],\n",
       " 'Rampart': ['99767'],\n",
       " 'Klawock': ['99925'],\n",
       " 'Chignik Lake': ['99548'],\n",
       " 'Selawik': ['99770'],\n",
       " 'Salcha': ['99714'],\n",
       " 'Tatitlek': ['99677'],\n",
       " 'Anaktuvuk Pass': ['99721'],\n",
       " 'Yakutat': ['99689'],\n",
       " 'Nulato': ['99765'],\n",
       " 'Wainwright': ['99782'],\n",
       " 'Galena': ['99741'],\n",
       " 'Gakona': ['99586'],\n",
       " 'Central': ['99730'],\n",
       " 'Kwethluk': ['99621'],\n",
       " 'Circle': ['99733'],\n",
       " 'Quinhagak': ['99655'],\n",
       " 'Port Alexander': ['99836'],\n",
       " 'Akutan': ['99553'],\n",
       " 'Tok': ['99780', '31120', '99779'],\n",
       " 'Sitka': ['99835'],\n",
       " 'Elfin Cove': ['99825'],\n",
       " 'Gambell': ['99742'],\n",
       " 'Valdez': ['99686'],\n",
       " 'Hyder': ['99923'],\n",
       " 'Metlakatla': ['99926'],\n",
       " 'Kasigluk': ['99609'],\n",
       " 'Goodnews Bay': ['99589'],\n",
       " 'Point Baker': ['99927'],\n",
       " 'Ward Cove': ['99928'],\n",
       " 'Unalakleet': ['99684'],\n",
       " 'Holy Cross': ['99602'],\n",
       " 'Prudhoe Bay': ['99734'],\n",
       " 'Trapper Creek': ['99683'],\n",
       " 'Barrow': ['99723'],\n",
       " 'Nikolai': ['99691'],\n",
       " 'Huslia': ['99746'],\n",
       " 'Angoon': ['99820'],\n",
       " 'Nikiski': ['99635'],\n",
       " 'Kaltag': ['99748'],\n",
       " 'Douglas': ['99824'],\n",
       " 'Chignik Lagoon': ['99565'],\n",
       " 'Bethel': ['99559'],\n",
       " 'Stebbins': ['99671'],\n",
       " 'Healy': ['99743'],\n",
       " 'Dillingham': ['99576'],\n",
       " 'Akiak': ['99552'],\n",
       " 'Pedro Bay': ['99647'],\n",
       " 'Hughes': ['99745'],\n",
       " 'Old Harbor': ['99643'],\n",
       " 'Tanana': ['99777'],\n",
       " 'Moose Pass': ['99631'],\n",
       " 'Point Hope': ['99766'],\n",
       " 'Koyuk': ['99753'],\n",
       " 'Egegik': ['99579'],\n",
       " 'Nondalton': ['99640'],\n",
       " 'Platinum': ['99651'],\n",
       " 'Nikolski': ['99638'],\n",
       " 'Port Heiden': ['99549'],\n",
       " 'Nunapitchuk': ['99641'],\n",
       " 'Anchor Point': ['99556'],\n",
       " 'Napakiak': ['99634'],\n",
       " 'Kongiganak': ['99545'],\n",
       " 'Marshall': ['99585'],\n",
       " 'Port Alsworth': ['99653'],\n",
       " 'Tuluksak': ['99679'],\n",
       " 'Ambler': ['99786'],\n",
       " 'Haines': ['99827'],\n",
       " 'Craig': ['99921'],\n",
       " 'Ekwok': ['99580'],\n",
       " 'Kodiak': ['99615', '99619', '99697'],\n",
       " 'Anderson': ['99744'],\n",
       " 'Sutton': ['99674'],\n",
       " 'Chevak': ['99563'],\n",
       " 'Grayling': ['99590'],\n",
       " 'Big Lake': ['99652'],\n",
       " 'Cooper Landing': ['99572'],\n",
       " 'Eagle': ['99738'],\n",
       " 'Atka': ['99547'],\n",
       " 'Cold Bay': ['99571'],\n",
       " 'Manokotak': ['99628'],\n",
       " 'Venetie': ['99781'],\n",
       " 'Adak': ['99546'],\n",
       " 'Shungnak': ['99773'],\n",
       " 'Lake Minchumina': ['99757'],\n",
       " 'Tanacross': ['99776'],\n",
       " 'Brevig Mission': ['99785'],\n",
       " 'Nenana': ['99760'],\n",
       " 'Levelock': ['99625'],\n",
       " 'Clam Gulch': ['99568'],\n",
       " 'Ninilchik': ['99639'],\n",
       " 'Scammon Bay': ['99662'],\n",
       " 'Clarks Point': ['99569'],\n",
       " 'Girdwood': ['99587'],\n",
       " 'Naknek': ['99633'],\n",
       " 'Unalaska': ['99685'],\n",
       " 'Saint George Island': ['99591'],\n",
       " 'Russian Mission': ['99657'],\n",
       " 'Saint Michael': ['99659'],\n",
       " 'Karluk': ['99608'],\n",
       " 'Fort Yukon': ['99740'],\n",
       " 'Larsen Bay': ['99624'],\n",
       " 'Manley Hot Springs': ['99756'],\n",
       " 'Ester': ['99725'],\n",
       " 'Tenakee Springs': ['99841'],\n",
       " 'Kotzebue': ['99752'],\n",
       " 'Eielson Afb': ['99702'],\n",
       " 'Mountain Village': ['99632'],\n",
       " 'False Pass': ['99583'],\n",
       " 'Chicken': ['99732'],\n",
       " 'Jber': ['99505', '99506'],\n",
       " 'Alakanuk': ['99554'],\n",
       " 'Noatak': ['99761'],\n",
       " 'Kiana': ['99749'],\n",
       " 'Aleknagik': ['99555'],\n",
       " 'Fairbanks': ['99701',\n",
       "  '99706',\n",
       "  '99707',\n",
       "  '99708',\n",
       "  '99709',\n",
       "  '99710',\n",
       "  '99711',\n",
       "  '99712',\n",
       "  '99775',\n",
       "  '99790'],\n",
       " 'Crooked Creek': ['99575'],\n",
       " 'Tuntutuliak': ['99680'],\n",
       " 'Kwigillingok': ['99622'],\n",
       " 'Glennallen': ['99588'],\n",
       " 'Beaver': ['99724'],\n",
       " 'Hooper Bay': ['99604'],\n",
       " 'Atqasuk': ['99791'],\n",
       " 'White Mountain': ['99784'],\n",
       " 'Nuiqsut': ['99789'],\n",
       " 'Gustavus': ['99826'],\n",
       " 'Sterling': ['99672'],\n",
       " 'Nunam Iqua': ['99666'],\n",
       " 'Point Lay': ['99759'],\n",
       " 'Aniak': ['99557'],\n",
       " 'Whittier': ['99693'],\n",
       " 'Buckland': ['99727'],\n",
       " 'Minto': ['99758'],\n",
       " 'Mekoryuk': ['99630'],\n",
       " 'Houston': ['99694'],\n",
       " 'Red Devil': ['99656'],\n",
       " 'Kenai': ['99611'],\n",
       " 'Toksook Bay': ['99637'],\n",
       " 'Chefornak': ['99561'],\n",
       " 'Indian': ['99540'],\n",
       " 'Kaktovik': ['99747'],\n",
       " 'Kobuk': ['99751'],\n",
       " 'Talkeetna': ['99676'],\n",
       " 'Saint Paul Island': ['99660'],\n",
       " 'Allakaket': ['99720'],\n",
       " 'Skagway': ['99840'],\n",
       " 'Togiak': ['99678'],\n",
       " 'Shaktoolik': ['99771'],\n",
       " 'Palmer': ['99645'],\n",
       " 'King Cove': ['99612'],\n",
       " 'Anchorage': ['99501',\n",
       "  '99502',\n",
       "  '99503',\n",
       "  '99504',\n",
       "  '99507',\n",
       "  '99508',\n",
       "  '99509',\n",
       "  '99510',\n",
       "  '99511',\n",
       "  '99513',\n",
       "  '99514',\n",
       "  '99515',\n",
       "  '99516',\n",
       "  '99517',\n",
       "  '99518',\n",
       "  '99519',\n",
       "  '99520',\n",
       "  '99521',\n",
       "  '99522',\n",
       "  '99523',\n",
       "  '99524',\n",
       "  '99529',\n",
       "  '99530',\n",
       "  '99599',\n",
       "  '99695',\n",
       "  '99512'],\n",
       " 'Akiachak': ['99551'],\n",
       " 'Tyonek': ['99682'],\n",
       " 'Petersburg': ['99833'],\n",
       " 'Cordova': ['99574'],\n",
       " 'Willow': ['99688'],\n",
       " 'Sleetmute': ['99668'],\n",
       " 'Port Lions': ['99550'],\n",
       " 'Bettles Field': ['99726'],\n",
       " 'Tununak': ['99681'],\n",
       " 'Fort Greely': ['99731'],\n",
       " 'Pilot Point': ['99649'],\n",
       " 'Perryville': ['99648'],\n",
       " 'Seldovia': ['99663'],\n",
       " 'Thorne Bay': ['99919'],\n",
       " 'Skwentna': ['99667'],\n",
       " 'Nightmute': ['99690'],\n",
       " 'Chalkyitsik': ['99788'],\n",
       " 'Ketchikan': ['99901', '99950']}"
      ]
     },
     "execution_count": 91,
     "metadata": {},
     "output_type": "execute_result"
    }
   ],
   "source": [
    "place_zipcode_dict"
   ]
  },
  {
   "cell_type": "code",
   "execution_count": 92,
   "metadata": {},
   "outputs": [
    {
     "data": {
      "text/plain": [
       "['99780', '31120', '99779']"
      ]
     },
     "execution_count": 92,
     "metadata": {},
     "output_type": "execute_result"
    }
   ],
   "source": [
    "# one strange return.... what is 31120? Google says its in Georgia?? I emailed the zipcodebase tech support to see if this is a bug\n",
    "place_zipcode_dict[\"Tok\"]"
   ]
  },
  {
   "cell_type": "code",
   "execution_count": 93,
   "metadata": {},
   "outputs": [],
   "source": [
    "# let's double check the returned zip codes against our original list to see if there are any discrepancies\n",
    "\n",
    "returned_zipcodes = []\n",
    "for place in place_zipcode_dict.keys():\n",
    "    returned_zipcodes.extend(place_zipcode_dict[place])\n",
    "returned_zipcodes = list(set(returned_zipcodes))\n"
   ]
  },
  {
   "cell_type": "code",
   "execution_count": 94,
   "metadata": {},
   "outputs": [
    {
     "data": {
      "text/plain": [
       "{'99636', '99750'}"
      ]
     },
     "execution_count": 94,
     "metadata": {},
     "output_type": "execute_result"
    }
   ],
   "source": [
    "# we know from above that there should be two AK zip codes that did not return a place name in the API call\n",
    "# These zip codes are 99636 for New Stuyahok and 99750 for Kivalina. We may just want to add these to our dictionary manually.\n",
    "set(ak_zip_codes).difference(returned_zipcodes)"
   ]
  },
  {
   "cell_type": "code",
   "execution_count": 95,
   "metadata": {},
   "outputs": [
    {
     "data": {
      "text/plain": [
       "{'31120', '99512', '99779'}"
      ]
     },
     "execution_count": 95,
     "metadata": {},
     "output_type": "execute_result"
    }
   ],
   "source": [
    "# there are also some zip codes found in the API that are not part of our original zip code list\n",
    "# these are the mystery Georgia zip code, plus 99512 which might be Anchorage and 99779 which is Tetlin\n",
    "# we would want to remove 31120 but keep the other two\n",
    "set(returned_zipcodes).difference(ak_zip_codes)"
   ]
  },
  {
   "cell_type": "code",
   "execution_count": null,
   "metadata": {},
   "outputs": [],
   "source": []
  }
 ],
 "metadata": {
  "kernelspec": {
   "display_name": "epa-justice",
   "language": "python",
   "name": "python3"
  },
  "language_info": {
   "codemirror_mode": {
    "name": "ipython",
    "version": 3
   },
   "file_extension": ".py",
   "mimetype": "text/x-python",
   "name": "python",
   "nbconvert_exporter": "python",
   "pygments_lexer": "ipython3",
   "version": "3.11.7"
  }
 },
 "nbformat": 4,
 "nbformat_minor": 2
}
