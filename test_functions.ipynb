{
 "cells": [
  {
   "cell_type": "code",
   "execution_count": 1,
   "metadata": {},
   "outputs": [],
   "source": [
    "import pandas as pd\n",
    "import random\n",
    "import numpy as np\n",
    "from utilities.api_functions import *\n",
    "\n",
    "# load the actual lookup table with real GVV IDs\n",
    "geoid_lu_df = pd.read_csv('/Users/joshpaul/epa-justice/repo/epa-justice/tbl/geoid_lookup.csv')\n",
    "# or load a test lookup table with multiple areas per (bogus) GVV ID\n",
    "# geoid_lu_df = pd.read_csv('/Users/joshpaul/epa-justice/repo/epa-justice/tbl/geoid_lookup_multi_test.csv')\n",
    "# get a random GVV ID for testing\n",
    "gvv_id = geoid_lu_df['id'].iloc[random.sample(range(len(geoid_lu_df['id'])), 1)].values[0]"
   ]
  },
  {
   "cell_type": "code",
   "execution_count": 2,
   "metadata": {},
   "outputs": [
    {
     "name": "stdout",
     "output_type": "stream",
     "text": [
      "fetching data from: https://api.census.gov/data/2020/dec/dhc?get=P12_001N,P12_002N,P12_026N,P12_003N,P12_004N,P12_005N,P12_006N,P12_020N,P12_021N,P12_022N,P12_023N,P12_024N,P12_025N,P12_027N,P12_028N,P12_029N,P12_030N,P12_044N,P12_045N,P12_046N,P12_047N,P12_048N,P12_049N&for=place:40670&in=state:02&key=839fc96162a9e16e7896434e7592eccaf7938706\n",
      "Records returned: 1\n",
      "   GEOID    GEOID  total_population  pct_65_plus  pct_under_18\n",
      "0    2.0  40670.0             792.0     14.89899     20.328283\n"
     ]
    }
   ],
   "source": [
    "dhc = fetch_census_data_and_compute(\"dhc\", gvv_id, geoid_lu_df)\n",
    "print(f\"Records returned: {len(dhc)}\")\n",
    "print(dhc)"
   ]
  },
  {
   "cell_type": "code",
   "execution_count": 3,
   "metadata": {},
   "outputs": [
    {
     "name": "stdout",
     "output_type": "stream",
     "text": [
      "fetching data from: https://api.census.gov/data/2020/acs/acs5/subject?get=S1810_C03_001E,S1810_C03_001M,S2701_C03_001E,S2701_C03_001M,S2701_C05_001E,S2701_C05_001M&for=place:40670&in=state:02&key=839fc96162a9e16e7896434e7592eccaf7938706\n",
      "Records returned: 1\n",
      "   pct_w_disability  moe_pct_w_disability  pct_insured  moe_pct_insured  \\\n",
      "0              16.9                   6.2         74.9              7.8   \n",
      "\n",
      "   pct_uninsured  moe_pct_uninsured  GEOID    GEOID  \n",
      "0           25.1                7.8    2.0  40670.0  \n"
     ]
    }
   ],
   "source": [
    "acs5 = fetch_census_data_and_compute(\"acs5\", gvv_id, geoid_lu_df)\n",
    "print(f\"Records returned: {len(acs5)}\")\n",
    "print(acs5)"
   ]
  },
  {
   "cell_type": "code",
   "execution_count": null,
   "metadata": {},
   "outputs": [],
   "source": []
  },
  {
   "cell_type": "code",
   "execution_count": null,
   "metadata": {},
   "outputs": [],
   "source": []
  },
  {
   "cell_type": "code",
   "execution_count": null,
   "metadata": {},
   "outputs": [],
   "source": []
  },
  {
   "cell_type": "code",
   "execution_count": 50,
   "metadata": {},
   "outputs": [
    {
     "name": "stdout",
     "output_type": "stream",
     "text": [
      "https://data.cdc.gov/resource/qnzd-25i4.json?measureid=CASTHMA&locationid=99709\n",
      "9.3\n",
      "https://data.cdc.gov/resource/qnzd-25i4.json?measureid=COPD&locationid=99709\n",
      "4.6\n",
      "https://data.cdc.gov/resource/qnzd-25i4.json?measureid=CHD&locationid=99709\n",
      "3.8\n",
      "https://data.cdc.gov/resource/qnzd-25i4.json?measureid=STROKE&locationid=99709\n",
      "2.1\n",
      "https://data.cdc.gov/resource/qnzd-25i4.json?measureid=DIABETES&locationid=99709\n",
      "6.7\n",
      "https://data.cdc.gov/resource/qnzd-25i4.json?measureid=KIDNEY&locationid=99709\n",
      "2.2\n",
      "https://data.cdc.gov/resource/bumh-rgsq.json?measureid=REMNRTY&locationid=99709\n",
      "31.9\n",
      "https://data.cdc.gov/resource/bumh-rgsq.json?measureid=NOHSDP&locationid=99709\n",
      "3.7\n",
      "https://data.cdc.gov/resource/bumh-rgsq.json?measureid=POV150&locationid=99709\n",
      "14.1\n",
      "https://data.cdc.gov/resource/bumh-rgsq.json?measureid=BROAD&locationid=99709\n",
      "8.5\n"
     ]
    }
   ],
   "source": [
    "#areatype_str = \"county\"\n",
    "#areatype_str = \"place\"\n",
    "areatype_str = \"zcta\"\n",
    "\n",
    "#geoid = \"090\"\n",
    "#geoid = \"24230\"\n",
    "geoid = \"99709\"\n",
    "\n",
    "for var_str in var_dict[\"cdc\"][\"PLACES\"][\"vars\"].keys():\n",
    "    base_url = var_dict[\"cdc\"][\"PLACES\"][\"url\"][areatype_str]\n",
    "    if areatype_str in [\"county\", \"place\"]:\n",
    "        full_geoid = str(\"02\"+geoid)\n",
    "        data_val_type_str = var_dict[\"cdc\"][\"PLACES\"][\"vars\"][var_str][\"data_value_type_id\"]\n",
    "        url = f\"{base_url}?measureid={var_str}&datavaluetypeid={data_val_type_str}&locationid={full_geoid}\"\n",
    "    else:\n",
    "        # do not add state fips code to ZCTAs\n",
    "        # do not specify data value type id... only crude prevalence is available for ZCTAs!\n",
    "        url = f\"{base_url}?measureid={var_str}&locationid={geoid}\"\n",
    "    print(url)\n",
    "    \n",
    "    with requests.get(url) as r:\n",
    "        if r.status_code != 200:\n",
    "            #TODO: raise error\n",
    "            print(\"No response, check your URL\")\n",
    "        else:\n",
    "            r_json = r.json()\n",
    "\n",
    "    print(r_json[0]['data_value'])\n",
    "\n",
    "for var_str in var_dict[\"cdc\"][\"SDOH\"][\"vars\"].keys():\n",
    "    base_url = var_dict[\"cdc\"][\"SDOH\"][\"url\"][areatype_str]\n",
    "    if areatype_str in [\"county\", \"place\"]:\n",
    "        full_geoid = str(\"02\"+geoid)\n",
    "        url = f\"{base_url}?measureid={var_str}&locationid={full_geoid}\"\n",
    "    else:\n",
    "        # do not add state fips code to ZCTAs\n",
    "        url = f\"{base_url}?measureid={var_str}&locationid={geoid}\"\n",
    "    print(url)\n",
    "\n",
    "    with requests.get(url) as r:\n",
    "        if r.status_code != 200:\n",
    "            #TODO: raise error\n",
    "            print(\"No response, check your URL\")\n",
    "        else:\n",
    "            r_json = r.json()\n",
    "\n",
    "    print(r_json[0]['data_value'])\n"
   ]
  },
  {
   "cell_type": "code",
   "execution_count": null,
   "metadata": {},
   "outputs": [],
   "source": []
  },
  {
   "cell_type": "code",
   "execution_count": null,
   "metadata": {},
   "outputs": [],
   "source": []
  },
  {
   "cell_type": "code",
   "execution_count": null,
   "metadata": {},
   "outputs": [],
   "source": []
  },
  {
   "cell_type": "code",
   "execution_count": null,
   "metadata": {},
   "outputs": [],
   "source": []
  },
  {
   "cell_type": "code",
   "execution_count": null,
   "metadata": {},
   "outputs": [],
   "source": []
  },
  {
   "cell_type": "code",
   "execution_count": null,
   "metadata": {},
   "outputs": [],
   "source": []
  },
  {
   "cell_type": "code",
   "execution_count": 45,
   "metadata": {},
   "outputs": [
    {
     "name": "stderr",
     "output_type": "stream",
     "text": [
      "/var/folders/dz/1ccfqg_n5mg3fsrt8rwm7fd80000gn/T/ipykernel_41143/3363655737.py:1: DtypeWarning: Columns (8,9) have mixed types. Specify dtype option on import or set low_memory=False.\n",
      "  zcta = pd.read_csv('/Users/joshpaul/epa-justice/etc/PLACES__Local_Data_for_Better_Health__ZCTA_Data_2023_release_20240418.csv')\n"
     ]
    },
    {
     "data": {
      "text/plain": [
       "array(['CASTHMA_CrdPrv', 'CHD_CrdPrv', 'COPD_CrdPrv', 'DIABETES_CrdPrv',\n",
       "       'KIDNEY_CrdPrv', 'STROKE_CrdPrv'], dtype=object)"
      ]
     },
     "execution_count": 45,
     "metadata": {},
     "output_type": "execute_result"
    }
   ],
   "source": [
    "zcta = pd.read_csv('/Users/joshpaul/epa-justice/etc/PLACES__Local_Data_for_Better_Health__ZCTA_Data_2023_release_20240418.csv')\n",
    "zcta = zcta[zcta['MeasureId'].isin(list(var_dict[\"cdc\"][\"PLACES\"][\"vars\"].keys()))]\n",
    "zcta[\"measure_type\"] = zcta[\"MeasureId\"] + \"_\" + zcta[\"DataValueTypeID\"]\n",
    "zcta[\"measure_type\"].unique()"
   ]
  },
  {
   "cell_type": "code",
   "execution_count": 44,
   "metadata": {},
   "outputs": [
    {
     "name": "stderr",
     "output_type": "stream",
     "text": [
      "/var/folders/dz/1ccfqg_n5mg3fsrt8rwm7fd80000gn/T/ipykernel_41143/2539198368.py:3: SettingWithCopyWarning: \n",
      "A value is trying to be set on a copy of a slice from a DataFrame.\n",
      "Try using .loc[row_indexer,col_indexer] = value instead\n",
      "\n",
      "See the caveats in the documentation: https://pandas.pydata.org/pandas-docs/stable/user_guide/indexing.html#returning-a-view-versus-a-copy\n",
      "  place_ak[\"measure_type\"] = place_ak[\"MeasureId\"] + \"_\" + place_ak[\"DataValueTypeID\"]\n"
     ]
    },
    {
     "data": {
      "text/plain": [
       "array(['CASTHMA_CrdPrv', 'STROKE_CrdPrv', 'DIABETES_CrdPrv',\n",
       "       'STROKE_AgeAdjPrv', 'CHD_CrdPrv', 'COPD_CrdPrv',\n",
       "       'CASTHMA_AgeAdjPrv', 'KIDNEY_CrdPrv', 'COPD_AgeAdjPrv',\n",
       "       'DIABETES_AgeAdjPrv', 'CHD_AgeAdjPrv', 'KIDNEY_AgeAdjPrv'],\n",
       "      dtype=object)"
      ]
     },
     "execution_count": 44,
     "metadata": {},
     "output_type": "execute_result"
    }
   ],
   "source": [
    "place = pd.read_csv('/Users/joshpaul/epa-justice/etc/PLACES__Local_Data_for_Better_Health__Place_Data_2023_release_20240418.csv')\n",
    "place_ak = place[(place['StateAbbr']=='AK') & (place['MeasureId'].isin(list(var_dict[\"cdc\"][\"PLACES\"][\"vars\"].keys())))]\n",
    "place_ak[\"measure_type\"] = place_ak[\"MeasureId\"] + \"_\" + place_ak[\"DataValueTypeID\"]\n",
    "place_ak[\"measure_type\"].unique()"
   ]
  },
  {
   "cell_type": "code",
   "execution_count": 42,
   "metadata": {},
   "outputs": [
    {
     "name": "stderr",
     "output_type": "stream",
     "text": [
      "/var/folders/dz/1ccfqg_n5mg3fsrt8rwm7fd80000gn/T/ipykernel_41143/1845687230.py:3: SettingWithCopyWarning: \n",
      "A value is trying to be set on a copy of a slice from a DataFrame.\n",
      "Try using .loc[row_indexer,col_indexer] = value instead\n",
      "\n",
      "See the caveats in the documentation: https://pandas.pydata.org/pandas-docs/stable/user_guide/indexing.html#returning-a-view-versus-a-copy\n",
      "  county_ak[\"measure_type\"] = county_ak[\"MeasureId\"] + \"_\" + county_ak[\"DataValueTypeID\"]\n"
     ]
    },
    {
     "data": {
      "text/plain": [
       "array(['STROKE_CrdPrv', 'DIABETES_CrdPrv', 'CHD_AgeAdjPrv',\n",
       "       'KIDNEY_CrdPrv', 'STROKE_AgeAdjPrv', 'DIABETES_AgeAdjPrv',\n",
       "       'COPD_AgeAdjPrv', 'CHD_CrdPrv', 'CASTHMA_CrdPrv',\n",
       "       'CASTHMA_AgeAdjPrv', 'COPD_CrdPrv', 'KIDNEY_AgeAdjPrv'],\n",
       "      dtype=object)"
      ]
     },
     "execution_count": 42,
     "metadata": {},
     "output_type": "execute_result"
    }
   ],
   "source": [
    "county = pd.read_csv('/Users/joshpaul/epa-justice/etc/PLACES__Local_Data_for_Better_Health__County_Data_2023_release.csv')\n",
    "county_ak = county[(county['StateAbbr']=='AK') & (county['MeasureId'].isin(list(var_dict[\"cdc\"][\"PLACES\"][\"vars\"].keys())))]\n",
    "county_ak[\"measure_type\"] = county_ak[\"MeasureId\"] + \"_\" + county_ak[\"DataValueTypeID\"]\n",
    "county_ak[\"measure_type\"].unique()"
   ]
  },
  {
   "cell_type": "code",
   "execution_count": null,
   "metadata": {},
   "outputs": [],
   "source": []
  }
 ],
 "metadata": {
  "kernelspec": {
   "display_name": "epa-justice",
   "language": "python",
   "name": "python3"
  },
  "language_info": {
   "codemirror_mode": {
    "name": "ipython",
    "version": 3
   },
   "file_extension": ".py",
   "mimetype": "text/x-python",
   "name": "python",
   "nbconvert_exporter": "python",
   "pygments_lexer": "ipython3",
   "version": "3.11.7"
  }
 },
 "nbformat": 4,
 "nbformat_minor": 2
}
