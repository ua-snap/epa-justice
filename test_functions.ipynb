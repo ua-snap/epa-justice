{
 "cells": [
  {
   "cell_type": "code",
   "execution_count": 4,
   "metadata": {},
   "outputs": [],
   "source": [
    "import pandas as pd\n",
    "import random\n",
    "import numpy as np\n",
    "from utilities.api_functions import *\n",
    "\n",
    "# load the actual lookup table with real GVV IDs\n",
    "geoid_lu_df = pd.read_csv('/Users/joshpaul/epa-justice/repo/epa-justice/tbl/geoid_lookup.csv')\n",
    "# or load a test lookup table with multiple areas per (bogus) GVV ID\n",
    "geoid_lu_df = pd.read_csv('/Users/joshpaul/epa-justice/repo/epa-justice/tbl/geoid_lookup_multi_test.csv')\n",
    "# get a random GVV ID for testing\n",
    "gvv_id = geoid_lu_df['id'].iloc[random.sample(range(len(geoid_lu_df['id'])), 1)].values[0]"
   ]
  },
  {
   "cell_type": "code",
   "execution_count": 5,
   "metadata": {},
   "outputs": [
    {
     "name": "stdout",
     "output_type": "stream",
     "text": [
      "fetching data from: https://api.census.gov/data/2020/dec/dhc?get=P12_001N,P12_002N,P12_026N,P12_003N,P12_004N,P12_005N,P12_006N,P12_020N,P12_021N,P12_022N,P12_023N,P12_024N,P12_025N,P12_027N,P12_028N,P12_029N,P12_030N,P12_044N,P12_045N,P12_046N,P12_047N,P12_048N,P12_049N&for=zip%20code%20tabulation%20area:99705,99706,99707,99708,99709&key=839fc96162a9e16e7896434e7592eccaf7938706\n",
      "Records returned: 4\n",
      "     GEOID  total_population  pct_65_plus  pct_under_18\n",
      "0  99705.0           22040.0     9.396552     27.200544\n",
      "1  99706.0              24.0    29.166667     25.000000\n",
      "2  99707.0              11.0     9.090909     27.272727\n",
      "3  99709.0           28613.0    13.881802     22.154266\n"
     ]
    }
   ],
   "source": [
    "dhc = fetch_data_and_compute(\"dhc\", gvv_id, geoid_lu_df)\n",
    "print(f\"Records returned: {len(dhc)}\")\n",
    "print(dhc)"
   ]
  },
  {
   "cell_type": "code",
   "execution_count": 6,
   "metadata": {},
   "outputs": [
    {
     "name": "stdout",
     "output_type": "stream",
     "text": [
      "fetching data from: https://api.census.gov/data/2020/acs/acs5/subject?get=S1810_C03_001E,S1810_C03_001M,S2701_C03_001E,S2701_C03_001M,S2701_C05_001E,S2701_C05_001M&for=zip%20code%20tabulation%20area:99705,99706,99707,99708,99709&key=839fc96162a9e16e7896434e7592eccaf7938706\n",
      "Records returned: 3\n",
      "   pct_w_disability  moe_pct_w_disability  pct_insured  moe_pct_insured  \\\n",
      "0               9.9                   2.0         90.5              2.3   \n",
      "1               0.0                  93.3         85.7             26.9   \n",
      "2              11.6                   2.3         88.0              2.1   \n",
      "\n",
      "   pct_uninsured  moe_pct_uninsured    GEOID  \n",
      "0            9.5                2.3  99709.0  \n",
      "1           14.3               26.9  99706.0  \n",
      "2           12.0                2.1  99705.0  \n"
     ]
    }
   ],
   "source": [
    "acs5 = fetch_data_and_compute(\"acs5\", gvv_id, geoid_lu_df)\n",
    "print(f\"Records returned: {len(acs5)}\")\n",
    "print(acs5)"
   ]
  },
  {
   "cell_type": "code",
   "execution_count": null,
   "metadata": {},
   "outputs": [],
   "source": []
  }
 ],
 "metadata": {
  "kernelspec": {
   "display_name": "epa-justice",
   "language": "python",
   "name": "python3"
  },
  "language_info": {
   "codemirror_mode": {
    "name": "ipython",
    "version": 3
   },
   "file_extension": ".py",
   "mimetype": "text/x-python",
   "name": "python",
   "nbconvert_exporter": "python",
   "pygments_lexer": "ipython3",
   "version": "3.11.7"
  }
 },
 "nbformat": 4,
 "nbformat_minor": 2
}
