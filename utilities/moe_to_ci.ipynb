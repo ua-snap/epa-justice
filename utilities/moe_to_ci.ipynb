{
 "cells": [
  {
   "cell_type": "code",
   "execution_count": 1,
   "metadata": {},
   "outputs": [],
   "source": [
    "import pandas as pd"
   ]
  },
  {
   "cell_type": "code",
   "execution_count": 2,
   "metadata": {},
   "outputs": [],
   "source": [
    "df = pd.read_csv('../tbl/data_to_export.csv')"
   ]
  },
  {
   "cell_type": "code",
   "execution_count": 3,
   "metadata": {},
   "outputs": [],
   "source": [
    "# any field with MOE needs to be replaced by two fields with low & high CI values\n",
    "# low CI = mean value - MOE\n",
    "# high CI = mean value + MOE\n",
    "\n",
    "fields = {\n",
    "    'pct_w_disability' : 'moe_pct_w_disability', \n",
    "    'pct_insured' : 'moe_pct_insured', \n",
    "    'pct_uninsured' : 'moe_pct_uninsured',\n",
    "    'pct_no_bband' : 'pct_no_bband_moe',\n",
    "    'pct_crowding' : 'pct_crowding_moe',\n",
    "    'pct_hcost' : 'pct_hcost_moe',\n",
    "    'pct_no_hsdiploma' : 'pct_no_hsdiploma_moe',\n",
    "    'pct_below_150pov' : 'pct_below_150pov_moe',\n",
    "    'pct_minority' : 'pct_minority_moe',\n",
    "    'pct_single_parent' : 'pct_single_parent_moe',\n",
    "    'pct_unemployed' : 'pct_unemployed_moe',\n",
    "}\n",
    "\n"
   ]
  },
  {
   "cell_type": "code",
   "execution_count": 4,
   "metadata": {},
   "outputs": [],
   "source": [
    "for field, moe_field in fields.items():\n",
    "    # calculate the fields\n",
    "    df[field + '_low'] = df[field] - df[moe_field]\n",
    "    df[field + '_high'] = df[field] + df[moe_field]\n",
    "    # and round them to 2 decimal places\n",
    "    df[field + '_low'] = df[field + '_low'].round(2)\n",
    "    df[field + '_high'] = df[field + '_high'].round(2)\n",
    "    # remove original moe field\n",
    "    df = df.drop(moe_field, axis=1)"
   ]
  },
  {
   "cell_type": "code",
   "execution_count": 5,
   "metadata": {},
   "outputs": [],
   "source": [
    "df.to_csv('../tbl/data_to_export.csv', index=False)"
   ]
  }
 ],
 "metadata": {
  "kernelspec": {
   "display_name": "epa-justice",
   "language": "python",
   "name": "python3"
  },
  "language_info": {
   "codemirror_mode": {
    "name": "ipython",
    "version": 3
   },
   "file_extension": ".py",
   "mimetype": "text/x-python",
   "name": "python",
   "nbconvert_exporter": "python",
   "pygments_lexer": "ipython3",
   "version": "3.12.3"
  }
 },
 "nbformat": 4,
 "nbformat_minor": 2
}
