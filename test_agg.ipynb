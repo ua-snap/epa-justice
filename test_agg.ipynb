{
 "cells": [
  {
   "cell_type": "code",
   "execution_count": 1,
   "metadata": {},
   "outputs": [],
   "source": [
    "import pandas as pd"
   ]
  },
  {
   "cell_type": "code",
   "execution_count": 2,
   "metadata": {},
   "outputs": [],
   "source": [
    "df = pd.read_csv('tbl/data_to_export.csv')"
   ]
  },
  {
   "cell_type": "code",
   "execution_count": 16,
   "metadata": {},
   "outputs": [
    {
     "name": "stdout",
     "output_type": "stream",
     "text": [
      "Aggregating values for AK103: Eagle River\n",
      "       id         name      areatype          placename     GEOID  \\\n",
      "45  AK103  Eagle River  Census tract  Census Tract 2.01  20000201   \n",
      "46  AK103  Eagle River  Census tract  Census Tract 2.02  20000202   \n",
      "47  AK103  Eagle River  Census tract  Census Tract 2.04  20000204   \n",
      "48  AK103  Eagle River  Census tract  Census Tract 2.05  20000205   \n",
      "49  AK103  Eagle River  Census tract  Census Tract 2.06  20000206   \n",
      "\n",
      "    total_population  pct_65_plus  pct_under_18  pct_w_disability  \\\n",
      "45            4318.0         7.74         26.98               9.6   \n",
      "46            6384.0        12.97         25.50              13.8   \n",
      "47            3582.0        12.65         21.30              14.9   \n",
      "48            7421.0         7.16         30.64               7.7   \n",
      "49            3413.0        13.45         28.13              13.1   \n",
      "\n",
      "    moe_pct_w_disability  ...  pct_copd  pct_hd  pct_stroke  pct_diabetes  \\\n",
      "45                   4.1  ...       4.3     3.0         1.7           5.2   \n",
      "46                   3.7  ...       4.7     3.7         2.1           6.0   \n",
      "47                   5.3  ...       4.2     3.3         1.8           5.6   \n",
      "48                   3.9  ...       NaN     NaN         NaN           NaN   \n",
      "49                   5.2  ...       NaN     NaN         NaN           NaN   \n",
      "\n",
      "    pct_kd  pct_minority  pct_no_hsdiploma  pct_below_150pov  pct_no_bband  \\\n",
      "45     1.8          26.9               7.1              11.5           8.9   \n",
      "46     2.1          28.2               3.9               6.9           4.7   \n",
      "47     2.0          19.7               1.9               6.9           3.3   \n",
      "48     NaN          19.1               0.8               4.0           1.5   \n",
      "49     NaN          11.4               0.9               2.6           3.5   \n",
      "\n",
      "                                              comment  \n",
      "45  Data for this place represent multiple merged ...  \n",
      "46  Data for this place represent multiple merged ...  \n",
      "47  Data for this place represent multiple merged ...  \n",
      "48  Data for this place represent multiple merged ...  \n",
      "49  Data for this place represent multiple merged ...  \n",
      "\n",
      "[5 rows x 26 columns]\n",
      "       id         name      areatype          placename     GEOID  \\\n",
      "45  AK103  Eagle River  Census tract  Census Tract 2.01  20000201   \n",
      "46  AK103  Eagle River  Census tract  Census Tract 2.02  20000202   \n",
      "47  AK103  Eagle River  Census tract  Census Tract 2.04  20000204   \n",
      "48  AK103  Eagle River  Census tract  Census Tract 2.05  20000205   \n",
      "49  AK103  Eagle River  Census tract  Census Tract 2.06  20000206   \n",
      "\n",
      "    total_population  pct_65_plus  pct_under_18  pct_w_disability  \\\n",
      "45            4318.0     334.2132     1164.9964           414.528   \n",
      "46            6384.0     828.0048     1627.9200           880.992   \n",
      "47            3582.0     453.1230      762.9660           533.718   \n",
      "48            7421.0     531.3436     2273.7944           571.417   \n",
      "49            3413.0     459.0485      960.0769           447.103   \n",
      "\n",
      "    moe_pct_w_disability  ...  pct_copd   pct_hd  pct_stroke  pct_diabetes  \\\n",
      "45               177.038  ...   185.674  129.540      73.406       224.536   \n",
      "46               236.208  ...   300.048  236.208     134.064       383.040   \n",
      "47               189.846  ...   150.444  118.206      64.476       200.592   \n",
      "48               289.419  ...       NaN      NaN         NaN           NaN   \n",
      "49               177.476  ...       NaN      NaN         NaN           NaN   \n",
      "\n",
      "     pct_kd  pct_minority  pct_no_hsdiploma  pct_below_150pov  pct_no_bband  \\\n",
      "45   77.724      1161.542           306.578           496.570       384.302   \n",
      "46  134.064      1800.288           248.976           440.496       300.048   \n",
      "47   71.640       705.654            68.058           247.158       118.206   \n",
      "48      NaN      1417.411            59.368           296.840       111.315   \n",
      "49      NaN       389.082            30.717            88.738       119.455   \n",
      "\n",
      "                                              comment  \n",
      "45  Data for this place represent multiple merged ...  \n",
      "46  Data for this place represent multiple merged ...  \n",
      "47  Data for this place represent multiple merged ...  \n",
      "48  Data for this place represent multiple merged ...  \n",
      "49  Data for this place represent multiple merged ...  \n",
      "\n",
      "[5 rows x 26 columns]\n",
      "Aggregating values for AK439: Joint Base Elmendorf-Richardson\n",
      "       id                             name      areatype          placename  \\\n",
      "55  AK439  Joint Base Elmendorf-Richardson  Census tract  Census Tract 9801   \n",
      "56  AK439  Joint Base Elmendorf-Richardson  Census tract  Census Tract 9802   \n",
      "\n",
      "       GEOID  total_population  pct_65_plus  pct_under_18  pct_w_disability  \\\n",
      "55  20980100            4592.0          NaN         25.07               2.0   \n",
      "56  20980200            6725.0         2.13         25.25               4.8   \n",
      "\n",
      "    moe_pct_w_disability  ...  pct_copd  pct_hd  pct_stroke  pct_diabetes  \\\n",
      "55                   2.2  ...       NaN     NaN         NaN           NaN   \n",
      "56                   1.8  ...       NaN     NaN         NaN           NaN   \n",
      "\n",
      "    pct_kd  pct_minority  pct_no_hsdiploma  pct_below_150pov  pct_no_bband  \\\n",
      "55     NaN          45.9               1.6               7.9           0.7   \n",
      "56     NaN          44.8               2.5              19.6           7.1   \n",
      "\n",
      "                                              comment  \n",
      "55  Data for this place represent multiple merged ...  \n",
      "56  Data for this place represent multiple merged ...  \n",
      "\n",
      "[2 rows x 26 columns]\n",
      "       id                             name      areatype          placename  \\\n",
      "55  AK439  Joint Base Elmendorf-Richardson  Census tract  Census Tract 9801   \n",
      "56  AK439  Joint Base Elmendorf-Richardson  Census tract  Census Tract 9802   \n",
      "\n",
      "       GEOID  total_population  pct_65_plus  pct_under_18  pct_w_disability  \\\n",
      "55  20980100            4592.0          NaN     1151.2144             91.84   \n",
      "56  20980200            6725.0     143.2425     1698.0625            322.80   \n",
      "\n",
      "    moe_pct_w_disability  ...  pct_copd  pct_hd  pct_stroke  pct_diabetes  \\\n",
      "55               101.024  ...       NaN     NaN         NaN           NaN   \n",
      "56               121.050  ...       NaN     NaN         NaN           NaN   \n",
      "\n",
      "    pct_kd  pct_minority  pct_no_hsdiploma  pct_below_150pov  pct_no_bband  \\\n",
      "55     NaN      2107.728            73.472           362.768        32.144   \n",
      "56     NaN      3012.800           168.125          1318.100       477.475   \n",
      "\n",
      "                                              comment  \n",
      "55  Data for this place represent multiple merged ...  \n",
      "56  Data for this place represent multiple merged ...  \n",
      "\n",
      "[2 rows x 26 columns]\n"
     ]
    },
    {
     "name": "stderr",
     "output_type": "stream",
     "text": [
      "/var/folders/dz/1ccfqg_n5mg3fsrt8rwm7fd80000gn/T/ipykernel_7884/896314389.py:10: SettingWithCopyWarning: \n",
      "A value is trying to be set on a copy of a slice from a DataFrame.\n",
      "Try using .loc[row_indexer,col_indexer] = value instead\n",
      "\n",
      "See the caveats in the documentation: https://pandas.pydata.org/pandas-docs/stable/user_guide/indexing.html#returning-a-view-versus-a-copy\n",
      "  sub_df[col] = sub_df['total_population'] * sub_df[col] / 100\n",
      "/var/folders/dz/1ccfqg_n5mg3fsrt8rwm7fd80000gn/T/ipykernel_7884/896314389.py:10: SettingWithCopyWarning: \n",
      "A value is trying to be set on a copy of a slice from a DataFrame.\n",
      "Try using .loc[row_indexer,col_indexer] = value instead\n",
      "\n",
      "See the caveats in the documentation: https://pandas.pydata.org/pandas-docs/stable/user_guide/indexing.html#returning-a-view-versus-a-copy\n",
      "  sub_df[col] = sub_df['total_population'] * sub_df[col] / 100\n"
     ]
    }
   ],
   "source": [
    "# list duplicated ids and names\n",
    "dups = list(zip(df[df.duplicated(subset='id')]['id'].unique().tolist(), df[df.duplicated(subset='id')]['name'].unique().tolist()))\n",
    "# iterate thru the list\n",
    "for dup in dups:\n",
    "    print(f\"Aggregating values for {dup[0]}: {dup[1]}\")\n",
    "    sub_df = df[df['id'] == dup[0]]\n",
    "    print(sub_df)\n",
    "    for col in sub_df.columns:\n",
    "        if col not in ['id', 'name', 'areatype', 'placename', 'GEOID', 'total_population', 'comment']:\n",
    "            sub_df[col] = sub_df['total_population'] * sub_df[col] / 100\n",
    "    # in this version of sub_df, the columns are people counts and NOT percentages\n",
    "    print(sub_df)"
   ]
  },
  {
   "cell_type": "code",
   "execution_count": 15,
   "metadata": {},
   "outputs": [
    {
     "data": {
      "text/plain": [
       "334.2132"
      ]
     },
     "execution_count": 15,
     "metadata": {},
     "output_type": "execute_result"
    }
   ],
   "source": [
    "4318.0*7.74/100"
   ]
  },
  {
   "cell_type": "code",
   "execution_count": null,
   "metadata": {},
   "outputs": [],
   "source": []
  }
 ],
 "metadata": {
  "kernelspec": {
   "display_name": "epa-justice",
   "language": "python",
   "name": "python3"
  },
  "language_info": {
   "codemirror_mode": {
    "name": "ipython",
    "version": 3
   },
   "file_extension": ".py",
   "mimetype": "text/x-python",
   "name": "python",
   "nbconvert_exporter": "python",
   "pygments_lexer": "ipython3",
   "version": "3.11.7"
  }
 },
 "nbformat": 4,
 "nbformat_minor": 2
}
